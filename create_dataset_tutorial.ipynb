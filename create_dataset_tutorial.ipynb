{
 "cells": [
  {
   "cell_type": "markdown",
   "metadata": {},
   "source": [
    "# データセット用画像の作成\n",
    "あらかじめデータセットを作成するディレクトリの配下に移動しておく"
   ]
  },
  {
   "cell_type": "code",
   "execution_count": 15,
   "metadata": {},
   "outputs": [],
   "source": [
    "# 必要なライブラリのインポート\n",
    "import os\n",
    "import numpy as np\n",
    "import pandas as pd\n",
    "import matplotlib.pyplot as plt\n",
    "import glob\n",
    "import cv2\n",
    "import natsort"
   ]
  },
  {
   "cell_type": "markdown",
   "metadata": {},
   "source": [
    "# ファイル保存先の設定"
   ]
  },
  {
   "cell_type": "code",
   "execution_count": 16,
   "metadata": {},
   "outputs": [
    {
     "name": "stdout",
     "output_type": "stream",
     "text": [
      "/Users/yonekawahiroto/Sanada_lab/研究/データセット作成パッケージ/sndl_size_discrim/downloads/manual/image_folder/train/\n",
      "/Users/yonekawahiroto/Sanada_lab/研究/データセット作成パッケージ/sndl_size_discrim/downloads/manual/image_folder/test/\n"
     ]
    }
   ],
   "source": [
    "username = ''                                               # ユーザ名\n",
    "datasetname = 'sndl_size_discrim'                           # データセット名\n",
    "train_csv = 'train_label.csv'                               # trainラベルを示すcsvファイル名\n",
    "test_csv = 'test_label.csv'                                 # testラベルを示すcsvファイル名\n",
    "\n",
    "# path_to_manual = f'/home/{username}/database/{datasetname}/downloads/manual/' # 現在のディレクトリまでのパス\n",
    "path_to_manual = f'/Users/yonekawahiroto/Sanada_lab/研究/データセット作成パッケージ/{datasetname}/downloads/manual/' # 現在のディレクトリまでのパス\n",
    "\n",
    "train_data_path = path_to_manual + 'image_folder/train/'    # 作成したtrainデータの保存先\n",
    "test_data_path = path_to_manual + 'image_folder/test/'      # 作成したtestデータの保存先\n",
    "print(train_data_path)\n",
    "print(test_data_path)"
   ]
  },
  {
   "cell_type": "markdown",
   "metadata": {},
   "source": [
    "# 画像の変数設定"
   ]
  },
  {
   "cell_type": "code",
   "execution_count": 17,
   "metadata": {},
   "outputs": [
    {
     "name": "stdout",
     "output_type": "stream",
     "text": [
      "基準刺激の半径 :  20\n",
      "テスト刺激の半径 :  [ 9.22 11.38 14.54 16.5  23.38 26.8  30.6  34.82]\n",
      "条件組み合わせ数 480\n"
     ]
    }
   ],
   "source": [
    "categories = ['small', 'large']                                                             # ラベルのカテゴリ\n",
    "N_data = 5                                                                                 # 1カテゴリあたりの画像枚数\n",
    "N_category = len(categories)                                                                # カテゴリ数\n",
    "\n",
    "image_shape = (224, 224, 3)                                                                 # DCNNに入力する画像のサイズ\n",
    "\n",
    "left_cntr = (int(image_shape[1] * 1/4)+5, int(image_shape[0]/2))                            # 左側の中心座標(x,y)\n",
    "right_cntr = (int(image_shape[1] * 3/4)-5, int(image_shape[0]/2))                           # 右側の中心座標(x,y)\n",
    "cntr = [left_cntr, right_cntr]                                                              # 中心座標\n",
    "\n",
    "freq=0.2                                                                                    # 生成する画像のテクスチャの空間周波数\n",
    "vNum=[3,4,5,6,7,9]                                                                          # 生成する多角形の頂点の数\n",
    "\n",
    "RefDisk_radius_pix = 20                                                                     # Reference diskの半径のピクセル値\n",
    "TestDisk_radius_arr = np.array([0.461, 0.569, 0.727, 0.825, 1.169, 1.340, 1.530, 1.741])    # Test diskの半径(Reference diskに対する相対値)\n",
    "TestDisk_radius_pix = TestDisk_radius_arr * RefDisk_radius_pix                              # Test diskの半径のピクセル値\n",
    "\n",
    "print('基準刺激の半径 : ', RefDisk_radius_pix)\n",
    "print('テスト刺激の半径 : ', TestDisk_radius_pix)\n",
    "print('条件組み合わせ数', N_data*len(TestDisk_radius_arr)*2*len(vNum))\n",
    "\n"
   ]
  },
  {
   "cell_type": "markdown",
   "metadata": {},
   "source": [
    "# 生成した画像を格納するディレクトリを作成"
   ]
  },
  {
   "cell_type": "code",
   "execution_count": 18,
   "metadata": {},
   "outputs": [
    {
     "name": "stdout",
     "output_type": "stream",
     "text": [
      "ディレクトリの生成に失敗しました．\n",
      "ディレクトリの生成に失敗しました．\n",
      "ディレクトリの生成に失敗しました．\n",
      "ディレクトリの生成に失敗しました．\n"
     ]
    }
   ],
   "source": [
    "'''\n",
    "./image_folder/\n",
    "    train/\n",
    "        category_A/\n",
    "                |-- category_A_000.jpg\n",
    "                |-- category_A_001.jpg\n",
    "        categoty_B/\n",
    "                |-- category_B_000.jpg\n",
    "                |-- category_B_001.jpg\n",
    "    test/\n",
    "'''\n",
    "for ii in range(N_category):\n",
    "    try:\n",
    "        os.makedirs(train_data_path+categories[ii])   # trainデータ用ディレクトリ\n",
    "    except:\n",
    "        print('ディレクトリの生成に失敗しました．')\n",
    "        pass\n",
    "    try:\n",
    "        os.makedirs(test_data_path+categories[ii])   # testデータ用ディレクトリ\n",
    "    except:\n",
    "        print('ディレクトリの生成に失敗しました．')\n",
    "        pass"
   ]
  },
  {
   "cell_type": "markdown",
   "metadata": {},
   "source": [
    "# 画像を生成するための関数"
   ]
  },
  {
   "cell_type": "code",
   "execution_count": 19,
   "metadata": {},
   "outputs": [],
   "source": [
    "# N角形の頂点を計算\n",
    "def calculate_N_polygon_vertices(vNum, center, radius, aa, bb):\n",
    "    vertices = []\n",
    "    for i in range(vNum):\n",
    "        angle = 2 * np.pi * i / vNum\n",
    "        x = center[0] + radius * np.cos(angle)/aa\n",
    "        y = center[1] + radius * np.sin(angle)/bb\n",
    "        vertices.append([int(x), int(y)])\n",
    "    return np.array(vertices)\n",
    "\n",
    "# N角形を作成\n",
    "def generate_N_polygon(vNum=int, shape=(224, 224, 3), center=list, radius=list, aa=1, bb=1):\n",
    "    image = np.zeros(shape)\n",
    "\n",
    "    left_cntr, right_cntr = center  # 刺激の中心座標\n",
    "    radius1, radius2 = radius       # 刺激の半径\n",
    "\n",
    "    # N角形の頂点を計算\n",
    "    left_polygon_vertices = calculate_N_polygon_vertices(vNum, left_cntr, radius1, aa, bb)\n",
    "    right_polygon_vertices = calculate_N_polygon_vertices(vNum, right_cntr, radius2, aa, bb)\n",
    "    \n",
    "    # 頂点のリシェイプ\n",
    "    left_pts = left_polygon_vertices.reshape((-1, 1, 2))\n",
    "    right_pts = right_polygon_vertices.reshape((-1, 1, 2))\n",
    "\n",
    "    # 多角形の頂点を持つ配列をリシェイプして内部を塗りつぶす\n",
    "    image=cv2.fillPoly(image, [left_pts], color=(1, 1, 1))\n",
    "    image=cv2.fillPoly(image, [right_pts], color=(1, 1, 1))\n",
    "\n",
    "    image_outside = (image == 0)\n",
    "    return image, image_outside\n",
    "\n",
    "# 正弦波グレーティング\n",
    "def generate_sinwave(XX, YY, freq, Theta_deg_Sin):\n",
    "    offset=90\n",
    "    theta_rad = np.radians(Theta_deg_Sin - offset)\n",
    "    XX2=np.cos(theta_rad)*XX\n",
    "    YY2=np.sin(theta_rad)*YY\n",
    "    ZZ = np.sin(2*np.pi*freq*(XX2+YY2))\n",
    "    return ZZ\n",
    "\n",
    "# 正弦波グレーティングを複数掛け合わせたテクスチャの生成\n",
    "def mask_texture(fact_N, shape, XX, YY, freq, theta_deg):\n",
    "    texture = np.ones(shape)\n",
    "\n",
    "    for ii in range(fact_N):\n",
    "        texture *= generate_sinwave(XX, YY, freq, theta_deg[ii])\n",
    "    return texture"
   ]
  },
  {
   "cell_type": "code",
   "execution_count": null,
   "metadata": {},
   "outputs": [],
   "source": []
  },
  {
   "cell_type": "markdown",
   "metadata": {},
   "source": [
    "# trainデータの生成"
   ]
  },
  {
   "cell_type": "code",
   "execution_count": 20,
   "metadata": {},
   "outputs": [],
   "source": [
    "xx = np.arange(0, image_shape[1])\n",
    "yy = np.arange(0, image_shape[0])\n",
    "zz = np.arange(0, image_shape[2])\n",
    "[XX,YY,ZZ]=np.meshgrid(xx,yy,zz)\n",
    "\n",
    "label = None    # ラベルの初期化\n",
    "ifig=0          # 画像番号を初期化\n",
    "\n",
    "for ii in range(len(TestDisk_radius_pix)):\n",
    "    for jj in range(len(vNum)):\n",
    "        # 各条件の組み合わせをN_dataずつ作成\n",
    "        for __ in range(N_data):\n",
    "            fact_N = np.random.randint(1, 5)                                                                                        # 正弦波を掛け合わせる回数(テクスチャ設定用)\n",
    "            theta_deg = np.random.randint(0, 360, fact_N)                                                                           # 正弦波の角度\n",
    "            \n",
    "            # 左がrefenrence, 右がtestの条件\n",
    "            image, image_outside = generate_N_polygon(vNum[jj], image_shape, cntr, [RefDisk_radius_pix, TestDisk_radius_pix[ii]])   # test刺激が右側にある条件\n",
    "            image *= mask_texture(fact_N, image_shape, XX, YY, freq, theta_deg)                                                     # テクスチャを適用\n",
    "            image[image_outside] = 0.5                                                                                              # 背景をグレーにする\n",
    "            \n",
    "            # 左より右が大きいか?\n",
    "            if RefDisk_radius_pix <= TestDisk_radius_pix[ii]:\n",
    "                label='large'\n",
    "            else:\n",
    "                label='small'\n",
    "\n",
    "            cv2.imwrite(train_data_path + f'{label}/{label}_{ifig:03}.jpg', image*255)                                              # 画像の保存\n",
    "            ifig+=1                                                                                                                 # 画像番号をインクリメント\n",
    "\n",
    "            # 左がtest, 右がreferenceの条件\n",
    "            image, image_outside = generate_N_polygon(vNum[jj], image_shape, cntr, [TestDisk_radius_pix[ii], RefDisk_radius_pix])   # test刺激が右側にある条件\n",
    "            image *= mask_texture(fact_N, image_shape, XX, YY, freq, theta_deg)                                                     # テクスチャを適用\n",
    "            image[image_outside] = 0.5                                                                                              # 背景をグレーにする\n",
    "            \n",
    "            # 左より右が大きいか?\n",
    "            if TestDisk_radius_pix[ii] <= RefDisk_radius_pix:\n",
    "                label='large'\n",
    "            else:\n",
    "                label='small'\n",
    "\n",
    "            cv2.imwrite(train_data_path + f'{label}/{label}_{ifig:03}.jpg', image*255)                                              # 画像の保存\n",
    "            ifig+=1                                                                                                                 # 画像番号をインクリメント\n"
   ]
  },
  {
   "cell_type": "markdown",
   "metadata": {},
   "source": [
    "# trainデータにラベルを付与しcsvを作成"
   ]
  },
  {
   "cell_type": "code",
   "execution_count": 21,
   "metadata": {},
   "outputs": [
    {
     "data": {
      "text/html": [
       "<div>\n",
       "<style scoped>\n",
       "    .dataframe tbody tr th:only-of-type {\n",
       "        vertical-align: middle;\n",
       "    }\n",
       "\n",
       "    .dataframe tbody tr th {\n",
       "        vertical-align: top;\n",
       "    }\n",
       "\n",
       "    .dataframe thead th {\n",
       "        text-align: right;\n",
       "    }\n",
       "</style>\n",
       "<table border=\"1\" class=\"dataframe\">\n",
       "  <thead>\n",
       "    <tr style=\"text-align: right;\">\n",
       "      <th></th>\n",
       "      <th>file_path</th>\n",
       "      <th>label</th>\n",
       "    </tr>\n",
       "  </thead>\n",
       "  <tbody>\n",
       "    <tr>\n",
       "      <th>0</th>\n",
       "      <td>/Users/yonekawahiroto/Sanada_lab/研究/データセット作成ハ...</td>\n",
       "      <td>large</td>\n",
       "    </tr>\n",
       "    <tr>\n",
       "      <th>1</th>\n",
       "      <td>/Users/yonekawahiroto/Sanada_lab/研究/データセット作成ハ...</td>\n",
       "      <td>large</td>\n",
       "    </tr>\n",
       "    <tr>\n",
       "      <th>2</th>\n",
       "      <td>/Users/yonekawahiroto/Sanada_lab/研究/データセット作成ハ...</td>\n",
       "      <td>large</td>\n",
       "    </tr>\n",
       "    <tr>\n",
       "      <th>3</th>\n",
       "      <td>/Users/yonekawahiroto/Sanada_lab/研究/データセット作成ハ...</td>\n",
       "      <td>large</td>\n",
       "    </tr>\n",
       "    <tr>\n",
       "      <th>4</th>\n",
       "      <td>/Users/yonekawahiroto/Sanada_lab/研究/データセット作成ハ...</td>\n",
       "      <td>large</td>\n",
       "    </tr>\n",
       "  </tbody>\n",
       "</table>\n",
       "</div>"
      ],
      "text/plain": [
       "                                           file_path  label\n",
       "0  /Users/yonekawahiroto/Sanada_lab/研究/データセット作成ハ...  large\n",
       "1  /Users/yonekawahiroto/Sanada_lab/研究/データセット作成ハ...  large\n",
       "2  /Users/yonekawahiroto/Sanada_lab/研究/データセット作成ハ...  large\n",
       "3  /Users/yonekawahiroto/Sanada_lab/研究/データセット作成ハ...  large\n",
       "4  /Users/yonekawahiroto/Sanada_lab/研究/データセット作成ハ...  large"
      ]
     },
     "execution_count": 21,
     "metadata": {},
     "output_type": "execute_result"
    }
   ],
   "source": [
    "train_image_list = glob.glob(train_data_path+'*/*')                                             # trainデータのパスをリストで取得\n",
    "train_image_list = natsort.natsorted(train_image_list)                                          # 画像を連番になるようにソート\n",
    "\n",
    "train_label_list = [os.path.split(os.path.split(fname)[0])[1] for fname in train_image_list]    # ラベルを画像数分用意\n",
    "\n",
    "file_label_list = zip(train_image_list, train_label_list)                                       # trainデータにラベルを対応付け\n",
    "\n",
    "df = pd.DataFrame(file_label_list, columns=['file_path', 'label'])                              # データフレーム化\n",
    "df.to_csv(path_to_manual + train_csv)                                                           # csvファイルに保存\n",
    "df.head()"
   ]
  },
  {
   "cell_type": "code",
   "execution_count": null,
   "metadata": {},
   "outputs": [],
   "source": []
  },
  {
   "cell_type": "markdown",
   "metadata": {},
   "source": [
    "# testデータの生成"
   ]
  },
  {
   "cell_type": "code",
   "execution_count": 22,
   "metadata": {},
   "outputs": [],
   "source": [
    "vNum = [360]        # テストだけ円形刺激を使用\n",
    "\n",
    "xx = np.arange(0, image_shape[1])\n",
    "yy = np.arange(0, image_shape[0])\n",
    "zz = np.arange(0, image_shape[2])\n",
    "[XX,YY,ZZ]=np.meshgrid(xx,yy,zz)\n",
    "\n",
    "label = None    # ラベルの初期化\n",
    "ifig=0          # 画像番号を初期化\n",
    "\n",
    "for ii in range(len(TestDisk_radius_pix)):\n",
    "    for jj in range(len(vNum)):\n",
    "        # 各条件の組み合わせをN_dataずつ作成\n",
    "        for __ in range(N_data):\n",
    "            fact_N = np.random.randint(1, 5)                                                                                        # 正弦波を掛け合わせる回数(テクスチャ設定用)\n",
    "            theta_deg = np.random.randint(0, 360, fact_N)                                                                           # 正弦波の角度\n",
    "            \n",
    "            # 左がrefenrence, 右がtestの条件\n",
    "            image, image_outside = generate_N_polygon(vNum[jj], image_shape, cntr, [RefDisk_radius_pix, TestDisk_radius_pix[ii]])   # test刺激が右側にある条件\n",
    "            image *= mask_texture(fact_N, image_shape, XX, YY, freq, theta_deg)                                                     # テクスチャを適用\n",
    "            image[image_outside] = 0.5                                                                                              # 背景をグレーにする\n",
    "            \n",
    "            # 左より右が大きいか?\n",
    "            if RefDisk_radius_pix <= TestDisk_radius_pix[ii]:\n",
    "                label='large'\n",
    "            else:\n",
    "                label='small'\n",
    "\n",
    "            cv2.imwrite(test_data_path + f'{label}/{label}_{ifig:03}.jpg', image*255)                                              # 画像の保存\n",
    "            ifig+=1                                                                                                                 # 画像番号をインクリメント\n",
    "\n",
    "            # 左がtest, 右がreferenceの条件\n",
    "            image, image_outside = generate_N_polygon(vNum[jj], image_shape, cntr, [TestDisk_radius_pix[ii], RefDisk_radius_pix])   # test刺激が右側にある条件\n",
    "            image *= mask_texture(fact_N, image_shape, XX, YY, freq, theta_deg)                                                     # テクスチャを適用\n",
    "            image[image_outside] = 0.5                                                                                              # 背景をグレーにする\n",
    "            \n",
    "            # 左より右が大きいか?\n",
    "            if TestDisk_radius_pix[ii] <= RefDisk_radius_pix:\n",
    "                label='large'\n",
    "            else:\n",
    "                label='small'\n",
    "\n",
    "            cv2.imwrite(test_data_path + f'{label}/{label}_{ifig:03}.jpg', image*255)                                              # 画像の保存\n",
    "            ifig+=1                                                                                                                 # 画像番号をインクリメント\n"
   ]
  },
  {
   "cell_type": "markdown",
   "metadata": {},
   "source": [
    "# testデータにラベルを付与しcsvを作成"
   ]
  },
  {
   "cell_type": "code",
   "execution_count": 23,
   "metadata": {},
   "outputs": [
    {
     "data": {
      "text/html": [
       "<div>\n",
       "<style scoped>\n",
       "    .dataframe tbody tr th:only-of-type {\n",
       "        vertical-align: middle;\n",
       "    }\n",
       "\n",
       "    .dataframe tbody tr th {\n",
       "        vertical-align: top;\n",
       "    }\n",
       "\n",
       "    .dataframe thead th {\n",
       "        text-align: right;\n",
       "    }\n",
       "</style>\n",
       "<table border=\"1\" class=\"dataframe\">\n",
       "  <thead>\n",
       "    <tr style=\"text-align: right;\">\n",
       "      <th></th>\n",
       "      <th>file_path</th>\n",
       "      <th>label</th>\n",
       "    </tr>\n",
       "  </thead>\n",
       "  <tbody>\n",
       "    <tr>\n",
       "      <th>0</th>\n",
       "      <td>/Users/yonekawahiroto/Sanada_lab/研究/データセット作成ハ...</td>\n",
       "      <td>large</td>\n",
       "    </tr>\n",
       "    <tr>\n",
       "      <th>1</th>\n",
       "      <td>/Users/yonekawahiroto/Sanada_lab/研究/データセット作成ハ...</td>\n",
       "      <td>large</td>\n",
       "    </tr>\n",
       "    <tr>\n",
       "      <th>2</th>\n",
       "      <td>/Users/yonekawahiroto/Sanada_lab/研究/データセット作成ハ...</td>\n",
       "      <td>large</td>\n",
       "    </tr>\n",
       "    <tr>\n",
       "      <th>3</th>\n",
       "      <td>/Users/yonekawahiroto/Sanada_lab/研究/データセット作成ハ...</td>\n",
       "      <td>large</td>\n",
       "    </tr>\n",
       "    <tr>\n",
       "      <th>4</th>\n",
       "      <td>/Users/yonekawahiroto/Sanada_lab/研究/データセット作成ハ...</td>\n",
       "      <td>large</td>\n",
       "    </tr>\n",
       "  </tbody>\n",
       "</table>\n",
       "</div>"
      ],
      "text/plain": [
       "                                           file_path  label\n",
       "0  /Users/yonekawahiroto/Sanada_lab/研究/データセット作成ハ...  large\n",
       "1  /Users/yonekawahiroto/Sanada_lab/研究/データセット作成ハ...  large\n",
       "2  /Users/yonekawahiroto/Sanada_lab/研究/データセット作成ハ...  large\n",
       "3  /Users/yonekawahiroto/Sanada_lab/研究/データセット作成ハ...  large\n",
       "4  /Users/yonekawahiroto/Sanada_lab/研究/データセット作成ハ...  large"
      ]
     },
     "execution_count": 23,
     "metadata": {},
     "output_type": "execute_result"
    }
   ],
   "source": [
    "test_image_list = glob.glob(train_data_path+'*/*')                                              # testデータのパスをリストで取得\n",
    "test_image_list = natsort.natsorted(test_image_list)                                            # 画像を連番になるようにソート\n",
    "\n",
    "test_label_list = [os.path.split(os.path.split(fname)[0])[1] for fname in test_image_list]      # ラベルを画像数分用意\n",
    "\n",
    "file_label_list = zip(test_image_list, test_label_list)                                         # testデータにラベルを対応付け\n",
    "\n",
    "df = pd.DataFrame(file_label_list, columns=['file_path', 'label'])            # データフレーム化\n",
    "df.to_csv(path_to_manual + test_csv)                                                            # csvファイルに保存\n",
    "df.head()"
   ]
  },
  {
   "cell_type": "code",
   "execution_count": null,
   "metadata": {},
   "outputs": [],
   "source": []
  }
 ],
 "metadata": {
  "kernelspec": {
   "display_name": "Python 3",
   "language": "python",
   "name": "python3"
  },
  "language_info": {
   "codemirror_mode": {
    "name": "ipython",
    "version": 3
   },
   "file_extension": ".py",
   "mimetype": "text/x-python",
   "name": "python",
   "nbconvert_exporter": "python",
   "pygments_lexer": "ipython3",
   "version": "3.9.16"
  }
 },
 "nbformat": 4,
 "nbformat_minor": 2
}
